{
 "cells": [
  {
   "cell_type": "code",
   "execution_count": 24,
   "id": "7888c116",
   "metadata": {},
   "outputs": [],
   "source": [
    "import pm4py\n",
    "import json\n",
    "import pandas as pd"
   ]
  },
  {
   "cell_type": "code",
   "execution_count": 25,
   "id": "cbba5be2",
   "metadata": {},
   "outputs": [],
   "source": [
    "net, im, fm = pm4py.read_pnml(\"annotated_petri.pnml\")"
   ]
  },
  {
   "cell_type": "code",
   "execution_count": 26,
   "id": "34aca061",
   "metadata": {},
   "outputs": [
    {
     "data": {
      "application/vnd.jupyter.widget-view+json": {
       "model_id": "e5690b6bfdaf4135998287a260a7ec81",
       "version_major": 2,
       "version_minor": 0
      },
      "text/plain": [
       "parsing log, completed traces ::   0%|          | 0/3 [00:00<?, ?it/s]"
      ]
     },
     "metadata": {},
     "output_type": "display_data"
    }
   ],
   "source": [
    "log1 = pm4py.read_xes('log1.xes', return_legacy_log_object=True)"
   ]
  },
  {
   "cell_type": "code",
   "execution_count": 27,
   "id": "60701aac",
   "metadata": {},
   "outputs": [
    {
     "data": {
      "application/vnd.jupyter.widget-view+json": {
       "model_id": "f66ebff505774e64abe25ad66b524f3d",
       "version_major": 2,
       "version_minor": 0
      },
      "text/plain": [
       "parsing log, completed traces ::   0%|          | 0/3 [00:00<?, ?it/s]"
      ]
     },
     "metadata": {},
     "output_type": "display_data"
    }
   ],
   "source": [
    "log2 = pm4py.read_xes('log2.xes', return_legacy_log_object=True)"
   ]
  },
  {
   "cell_type": "code",
   "execution_count": 28,
   "id": "6d9b7756",
   "metadata": {},
   "outputs": [],
   "source": [
    "from pm4py.algo.evaluation.generalization import algorithm as generalization_evaluator\n",
    "from pm4py.algo.evaluation.simplicity import algorithm as simplicity_evaluator"
   ]
  },
  {
   "cell_type": "code",
   "execution_count": 29,
   "id": "bb178241",
   "metadata": {},
   "outputs": [
    {
     "data": {
      "application/vnd.jupyter.widget-view+json": {
       "model_id": "7e83cf628652443480b7e32c2cc08347",
       "version_major": 2,
       "version_minor": 0
      },
      "text/plain": [
       "replaying log with TBR, completed variants ::   0%|          | 0/3 [00:00<?, ?it/s]"
      ]
     },
     "metadata": {},
     "output_type": "display_data"
    },
    {
     "data": {
      "application/vnd.jupyter.widget-view+json": {
       "model_id": "60713405d7c24cb4b4dde6858feb1aab",
       "version_major": 2,
       "version_minor": 0
      },
      "text/plain": [
       "replaying log with TBR, completed variants ::   0%|          | 0/14 [00:00<?, ?it/s]"
      ]
     },
     "metadata": {},
     "output_type": "display_data"
    },
    {
     "data": {
      "application/vnd.jupyter.widget-view+json": {
       "model_id": "563bdaf101f4427ea53fec9c637e7bf6",
       "version_major": 2,
       "version_minor": 0
      },
      "text/plain": [
       "replaying log with TBR, completed variants ::   0%|          | 0/3 [00:00<?, ?it/s]"
      ]
     },
     "metadata": {},
     "output_type": "display_data"
    },
    {
     "name": "stdout",
     "output_type": "stream",
     "text": [
      "Fitness: 1.0\n",
      "Precision: 0.5217391304347826\n",
      "Generalization: 0.30608424112445753\n",
      "Simplicity: 0.6774193548387096\n"
     ]
    }
   ],
   "source": [
    "fitness = pm4py.fitness_token_based_replay(log1, net, im, fm)\n",
    "prec = pm4py.precision_token_based_replay(log1, net, im, fm)\n",
    "gen = generalization_evaluator.apply(log1, net, im, fm)\n",
    "simp = simplicity_evaluator.apply(net)\n",
    "print('Fitness: ' + str(fitness['log_fitness']))\n",
    "print('Precision: ' + str(prec))\n",
    "print('Generalization: ' + str(gen))\n",
    "print('Simplicity: ' + str(simp))"
   ]
  },
  {
   "cell_type": "code",
   "execution_count": 30,
   "id": "6b5f09ed",
   "metadata": {},
   "outputs": [
    {
     "data": {
      "application/vnd.jupyter.widget-view+json": {
       "model_id": "05fff59343a447ea8d185cc9453d3893",
       "version_major": 2,
       "version_minor": 0
      },
      "text/plain": [
       "replaying log with TBR, completed variants ::   0%|          | 0/3 [00:00<?, ?it/s]"
      ]
     },
     "metadata": {},
     "output_type": "display_data"
    },
    {
     "data": {
      "application/vnd.jupyter.widget-view+json": {
       "model_id": "466f6a9f3f894028b7d81f66abedfdb1",
       "version_major": 2,
       "version_minor": 0
      },
      "text/plain": [
       "replaying log with TBR, completed variants ::   0%|          | 0/15 [00:00<?, ?it/s]"
      ]
     },
     "metadata": {},
     "output_type": "display_data"
    },
    {
     "data": {
      "application/vnd.jupyter.widget-view+json": {
       "model_id": "b59e2bea5a9943a69dbfd0e3d994f5b2",
       "version_major": 2,
       "version_minor": 0
      },
      "text/plain": [
       "replaying log with TBR, completed variants ::   0%|          | 0/3 [00:00<?, ?it/s]"
      ]
     },
     "metadata": {},
     "output_type": "display_data"
    },
    {
     "name": "stdout",
     "output_type": "stream",
     "text": [
      "Fitness: 1.0\n",
      "Precision: 0.423728813559322\n",
      "Generalization: 0.36422315172478226\n",
      "Simplicity: 0.6774193548387096\n"
     ]
    }
   ],
   "source": [
    "fitness = pm4py.fitness_token_based_replay(log2, net, im, fm)\n",
    "prec = pm4py.precision_token_based_replay(log2, net, im, fm)\n",
    "gen = generalization_evaluator.apply(log2, net, im, fm)\n",
    "simp = simplicity_evaluator.apply(net)\n",
    "print('Fitness: ' + str(fitness['log_fitness']))\n",
    "print('Precision: ' + str(prec))\n",
    "print('Generalization: ' + str(gen))\n",
    "print('Simplicity: ' + str(simp))"
   ]
  },
  {
   "cell_type": "markdown",
   "id": "8e843a69",
   "metadata": {},
   "source": [
    "im2 = im.copy()\n",
    "im3 = im.copy()\n",
    "\n",
    "im2 \n",
    "\n",
    "im3.popitem()\n",
    "im3\n",
    "\n",
    "im2.subtract(im3)\n",
    "\n",
    "im2\n",
    "\n",
    "fm2 = fm.copy()\n",
    "fm2.popitem()\n",
    "fm2.popitem()\n",
    "fm2"
   ]
  },
  {
   "cell_type": "code",
   "execution_count": 31,
   "id": "f6e03f62",
   "metadata": {},
   "outputs": [
    {
     "name": "stdout",
     "output_type": "stream",
     "text": [
      "['ext_Activity_114fwgn:1', 'ext_Activity_1rpdqbz:1', 'source:1']\n",
      "['ext_Activity_114fwgn:1', 'ext_Activity_1rpdqbz:1', 'sink:1']\n"
     ]
    }
   ],
   "source": [
    "im2 = im.copy()\n",
    "fm2 = fm.copy()\n",
    "print(im2)\n",
    "print(fm2)"
   ]
  },
  {
   "cell_type": "code",
   "execution_count": 32,
   "id": "4d9815d6",
   "metadata": {},
   "outputs": [
    {
     "name": "stdout",
     "output_type": "stream",
     "text": [
      "['ext_Activity_114fwgn:0', 'ext_Activity_1rpdqbz:0', 'source:1']\n",
      "['ext_Activity_114fwgn:0', 'ext_Activity_1rpdqbz:0', 'sink:1']\n"
     ]
    }
   ],
   "source": [
    "im2[list(im2.elements())[1]]=0\n",
    "im2[list(im2.elements())[-1]]=0\n",
    "fm2[list(fm2.elements())[1]]=0\n",
    "fm2[list(fm2.elements())[-1]]=0\n",
    "print(im2)\n",
    "print(fm2)"
   ]
  },
  {
   "cell_type": "code",
   "execution_count": 33,
   "id": "7b049953",
   "metadata": {},
   "outputs": [
    {
     "data": {
      "application/vnd.jupyter.widget-view+json": {
       "model_id": "40131f83ff8d4f33aa8eddff22fde495",
       "version_major": 2,
       "version_minor": 0
      },
      "text/plain": [
       "replaying log with TBR, completed variants ::   0%|          | 0/3 [00:00<?, ?it/s]"
      ]
     },
     "metadata": {},
     "output_type": "display_data"
    },
    {
     "data": {
      "application/vnd.jupyter.widget-view+json": {
       "model_id": "26990d347db74acda4ad23927f401959",
       "version_major": 2,
       "version_minor": 0
      },
      "text/plain": [
       "replaying log with TBR, completed variants ::   0%|          | 0/15 [00:00<?, ?it/s]"
      ]
     },
     "metadata": {},
     "output_type": "display_data"
    },
    {
     "data": {
      "application/vnd.jupyter.widget-view+json": {
       "model_id": "ad2287e0773846b991ecbde90fd619e2",
       "version_major": 2,
       "version_minor": 0
      },
      "text/plain": [
       "replaying log with TBR, completed variants ::   0%|          | 0/3 [00:00<?, ?it/s]"
      ]
     },
     "metadata": {},
     "output_type": "display_data"
    },
    {
     "name": "stdout",
     "output_type": "stream",
     "text": [
      "Fitness: 0.9318181818181819\n",
      "Precision: 1.0\n",
      "Generalization: 0.36422315172478226\n",
      "Simplicity: 0.6774193548387096\n"
     ]
    }
   ],
   "source": [
    "fitness = pm4py.fitness_token_based_replay(log2, net, im2, fm2)\n",
    "prec = pm4py.precision_token_based_replay(log2, net, im2, fm2)\n",
    "gen = generalization_evaluator.apply(log2, net, im2, fm2)\n",
    "simp = simplicity_evaluator.apply(net)\n",
    "print('Fitness: ' + str(fitness['log_fitness']))\n",
    "print('Precision: ' + str(prec))\n",
    "print('Generalization: ' + str(gen))\n",
    "print('Simplicity: ' + str(simp))"
   ]
  },
  {
   "cell_type": "code",
   "execution_count": 34,
   "id": "08938fa6",
   "metadata": {},
   "outputs": [
    {
     "data": {
      "application/vnd.jupyter.widget-view+json": {
       "model_id": "21f85a46d0034466ad4a1468e77a837e",
       "version_major": 2,
       "version_minor": 0
      },
      "text/plain": [
       "replaying log with TBR, completed variants ::   0%|          | 0/3 [00:00<?, ?it/s]"
      ]
     },
     "metadata": {},
     "output_type": "display_data"
    },
    {
     "data": {
      "application/vnd.jupyter.widget-view+json": {
       "model_id": "a08dc048d741494b8851c115fea26d6b",
       "version_major": 2,
       "version_minor": 0
      },
      "text/plain": [
       "replaying log with TBR, completed variants ::   0%|          | 0/14 [00:00<?, ?it/s]"
      ]
     },
     "metadata": {},
     "output_type": "display_data"
    },
    {
     "data": {
      "application/vnd.jupyter.widget-view+json": {
       "model_id": "d23cb818b4994e72b874b7123e3b2593",
       "version_major": 2,
       "version_minor": 0
      },
      "text/plain": [
       "replaying log with TBR, completed variants ::   0%|          | 0/3 [00:00<?, ?it/s]"
      ]
     },
     "metadata": {},
     "output_type": "display_data"
    },
    {
     "name": "stdout",
     "output_type": "stream",
     "text": [
      "Fitness: 0.8918918918918919\n",
      "Precision: 1.0\n",
      "Generalization: 0.30608424112445753\n",
      "Simplicity: 0.6774193548387096\n"
     ]
    }
   ],
   "source": [
    "fitness = pm4py.fitness_token_based_replay(log1, net, im2, fm2)\n",
    "prec = pm4py.precision_token_based_replay(log1, net, im2, fm2)\n",
    "gen = generalization_evaluator.apply(log1, net, im2, fm2)\n",
    "simp = simplicity_evaluator.apply(net)\n",
    "print('Fitness: ' + str(fitness['log_fitness']))\n",
    "print('Precision: ' + str(prec))\n",
    "print('Generalization: ' + str(gen))\n",
    "print('Simplicity: ' + str(simp))"
   ]
  },
  {
   "cell_type": "code",
   "execution_count": null,
   "id": "b80a8165",
   "metadata": {},
   "outputs": [],
   "source": []
  },
  {
   "cell_type": "code",
   "execution_count": null,
   "id": "e13de428",
   "metadata": {},
   "outputs": [],
   "source": []
  },
  {
   "cell_type": "code",
   "execution_count": null,
   "id": "68e0204d",
   "metadata": {},
   "outputs": [],
   "source": []
  }
 ],
 "metadata": {
  "kernelspec": {
   "display_name": "Python 3 (ipykernel)",
   "language": "python",
   "name": "python3"
  },
  "language_info": {
   "codemirror_mode": {
    "name": "ipython",
    "version": 3
   },
   "file_extension": ".py",
   "mimetype": "text/x-python",
   "name": "python",
   "nbconvert_exporter": "python",
   "pygments_lexer": "ipython3",
   "version": "3.10.9"
  }
 },
 "nbformat": 4,
 "nbformat_minor": 5
}
