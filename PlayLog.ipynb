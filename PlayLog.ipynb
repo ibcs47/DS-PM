{
 "cells": [
  {
   "cell_type": "code",
   "execution_count": 1,
   "id": "fc9bbf6e",
   "metadata": {},
   "outputs": [],
   "source": [
    "import pm4py\n",
    "import json\n",
    "import pandas as pd"
   ]
  },
  {
   "cell_type": "code",
   "execution_count": 6,
   "id": "a44e8aa4",
   "metadata": {},
   "outputs": [],
   "source": [
    "net, im, fm = pm4py.read_pnml(\"annotated_petri.pnml\")"
   ]
  },
  {
   "cell_type": "code",
   "execution_count": 3,
   "id": "3d9f850f",
   "metadata": {},
   "outputs": [
    {
     "name": "stderr",
     "output_type": "stream",
     "text": [
      "C:\\Users\\Admin\\AppData\\Roaming\\Python\\Python310\\site-packages\\pm4py\\util\\dt_parsing\\parser.py:76: UserWarning: ISO8601 strings are not fully supported with strpfromiso for Python versions below 3.11\n",
      "  warnings.warn(\n"
     ]
    },
    {
     "data": {
      "application/vnd.jupyter.widget-view+json": {
       "model_id": "dcd0f59ab9c445c386d82506923b5424",
       "version_major": 2,
       "version_minor": 0
      },
      "text/plain": [
       "parsing log, completed traces ::   0%|          | 0/3 [00:00<?, ?it/s]"
      ]
     },
     "metadata": {},
     "output_type": "display_data"
    }
   ],
   "source": [
    "log1 = pm4py.read_xes('log1.xes', return_legacy_log_object=True)"
   ]
  },
  {
   "cell_type": "code",
   "execution_count": 4,
   "id": "695a2eaa",
   "metadata": {},
   "outputs": [
    {
     "data": {
      "application/vnd.jupyter.widget-view+json": {
       "model_id": "c323cace17aa4144829691220048f773",
       "version_major": 2,
       "version_minor": 0
      },
      "text/plain": [
       "parsing log, completed traces ::   0%|          | 0/3 [00:00<?, ?it/s]"
      ]
     },
     "metadata": {},
     "output_type": "display_data"
    }
   ],
   "source": [
    "log2 = pm4py.read_xes('log2.xes', return_legacy_log_object=True)"
   ]
  },
  {
   "cell_type": "code",
   "execution_count": 5,
   "id": "9f877d5e",
   "metadata": {},
   "outputs": [],
   "source": [
    "from pm4py.algo.evaluation.generalization import algorithm as generalization_evaluator\n",
    "from pm4py.algo.evaluation.simplicity import algorithm as simplicity_evaluator"
   ]
  },
  {
   "cell_type": "code",
   "execution_count": 7,
   "id": "6605e6b9",
   "metadata": {},
   "outputs": [
    {
     "name": "stderr",
     "output_type": "stream",
     "text": [
      "C:\\Users\\Admin\\AppData\\Roaming\\Python\\Python310\\site-packages\\pm4py\\utils.py:486: UserWarning: the EventLog class has been deprecated and will be removed in a future release.\n",
      "  warnings.warn(\"the EventLog class has been deprecated and will be removed in a future release.\")\n"
     ]
    },
    {
     "data": {
      "application/vnd.jupyter.widget-view+json": {
       "model_id": "7c4ddf800f534f2db0e6eac4e6ace577",
       "version_major": 2,
       "version_minor": 0
      },
      "text/plain": [
       "replaying log with TBR, completed variants ::   0%|          | 0/3 [00:00<?, ?it/s]"
      ]
     },
     "metadata": {},
     "output_type": "display_data"
    },
    {
     "data": {
      "application/vnd.jupyter.widget-view+json": {
       "model_id": "fffae660b4d043cbb60978932cdc152b",
       "version_major": 2,
       "version_minor": 0
      },
      "text/plain": [
       "replaying log with TBR, completed variants ::   0%|          | 0/14 [00:00<?, ?it/s]"
      ]
     },
     "metadata": {},
     "output_type": "display_data"
    },
    {
     "data": {
      "application/vnd.jupyter.widget-view+json": {
       "model_id": "f229827f81e741ea88b07181f73a9496",
       "version_major": 2,
       "version_minor": 0
      },
      "text/plain": [
       "replaying log with TBR, completed variants ::   0%|          | 0/3 [00:00<?, ?it/s]"
      ]
     },
     "metadata": {},
     "output_type": "display_data"
    },
    {
     "name": "stdout",
     "output_type": "stream",
     "text": [
      "Fitness: 1.0\n",
      "Precision: 0.5217391304347826\n",
      "Generalization: 0.30608424112445753\n",
      "Simplicity: 0.6774193548387096\n"
     ]
    }
   ],
   "source": [
    "fitness = pm4py.fitness_token_based_replay(log1, net, im, fm)\n",
    "prec = pm4py.precision_token_based_replay(log1, net, im, fm)\n",
    "gen = generalization_evaluator.apply(log1, net, im, fm)\n",
    "simp = simplicity_evaluator.apply(net)\n",
    "print('Fitness: ' + str(fitness['log_fitness']))\n",
    "print('Precision: ' + str(prec))\n",
    "print('Generalization: ' + str(gen))\n",
    "print('Simplicity: ' + str(simp))"
   ]
  },
  {
   "cell_type": "code",
   "execution_count": 8,
   "id": "b83d0493",
   "metadata": {},
   "outputs": [
    {
     "data": {
      "application/vnd.jupyter.widget-view+json": {
       "model_id": "4a3a5f192c0b4999b1d1b180eab60155",
       "version_major": 2,
       "version_minor": 0
      },
      "text/plain": [
       "replaying log with TBR, completed variants ::   0%|          | 0/3 [00:00<?, ?it/s]"
      ]
     },
     "metadata": {},
     "output_type": "display_data"
    },
    {
     "data": {
      "application/vnd.jupyter.widget-view+json": {
       "model_id": "97e7f095b152434b9fe6f070a29d9147",
       "version_major": 2,
       "version_minor": 0
      },
      "text/plain": [
       "replaying log with TBR, completed variants ::   0%|          | 0/15 [00:00<?, ?it/s]"
      ]
     },
     "metadata": {},
     "output_type": "display_data"
    },
    {
     "data": {
      "application/vnd.jupyter.widget-view+json": {
       "model_id": "c41fde92812140cb99b57f37708d7472",
       "version_major": 2,
       "version_minor": 0
      },
      "text/plain": [
       "replaying log with TBR, completed variants ::   0%|          | 0/3 [00:00<?, ?it/s]"
      ]
     },
     "metadata": {},
     "output_type": "display_data"
    },
    {
     "name": "stdout",
     "output_type": "stream",
     "text": [
      "Fitness: 1.0\n",
      "Precision: 0.423728813559322\n",
      "Generalization: 0.36422315172478226\n",
      "Simplicity: 0.6774193548387096\n"
     ]
    }
   ],
   "source": [
    "fitness = pm4py.fitness_token_based_replay(log2, net, im, fm)\n",
    "prec = pm4py.precision_token_based_replay(log2, net, im, fm)\n",
    "gen = generalization_evaluator.apply(log2, net, im, fm)\n",
    "simp = simplicity_evaluator.apply(net)\n",
    "print('Fitness: ' + str(fitness['log_fitness']))\n",
    "print('Precision: ' + str(prec))\n",
    "print('Generalization: ' + str(gen))\n",
    "print('Simplicity: ' + str(simp))"
   ]
  },
  {
   "cell_type": "code",
   "execution_count": 57,
   "id": "000a3d84",
   "metadata": {},
   "outputs": [],
   "source": [
    "im2 = im.copy()\n",
    "im3 = im.copy()"
   ]
  },
  {
   "cell_type": "code",
   "execution_count": 54,
   "id": "0118e43d",
   "metadata": {},
   "outputs": [
    {
     "data": {
      "text/plain": [
       "['ext_Activity_114fwgn:1', 'ext_Activity_1rpdqbz:1', 'source:1']"
      ]
     },
     "execution_count": 54,
     "metadata": {},
     "output_type": "execute_result"
    }
   ],
   "source": [
    "im2 "
   ]
  },
  {
   "cell_type": "code",
   "execution_count": 58,
   "id": "f410828d",
   "metadata": {},
   "outputs": [
    {
     "data": {
      "text/plain": [
       "['ext_Activity_114fwgn:1', 'ext_Activity_1rpdqbz:1']"
      ]
     },
     "execution_count": 58,
     "metadata": {},
     "output_type": "execute_result"
    }
   ],
   "source": [
    "im3.popitem()\n",
    "im3"
   ]
  },
  {
   "cell_type": "code",
   "execution_count": 59,
   "id": "9581da81",
   "metadata": {},
   "outputs": [],
   "source": [
    "im2.subtract(im3)"
   ]
  },
  {
   "cell_type": "code",
   "execution_count": 60,
   "id": "3de7d0f7",
   "metadata": {},
   "outputs": [
    {
     "data": {
      "text/plain": [
       "['ext_Activity_114fwgn:0', 'ext_Activity_1rpdqbz:0', 'source:1']"
      ]
     },
     "execution_count": 60,
     "metadata": {},
     "output_type": "execute_result"
    }
   ],
   "source": [
    "im2"
   ]
  },
  {
   "cell_type": "code",
   "execution_count": 64,
   "id": "5e0fb259",
   "metadata": {},
   "outputs": [
    {
     "data": {
      "text/plain": [
       "['sink:1']"
      ]
     },
     "execution_count": 64,
     "metadata": {},
     "output_type": "execute_result"
    }
   ],
   "source": [
    "fm2 = fm.copy()\n",
    "fm2.popitem()\n",
    "fm2.popitem()\n",
    "fm2"
   ]
  },
  {
   "cell_type": "code",
   "execution_count": null,
   "id": "3f4cf850",
   "metadata": {},
   "outputs": [],
   "source": []
  }
 ],
 "metadata": {
  "kernelspec": {
   "display_name": "Python 3 (ipykernel)",
   "language": "python",
   "name": "python3"
  },
  "language_info": {
   "codemirror_mode": {
    "name": "ipython",
    "version": 3
   },
   "file_extension": ".py",
   "mimetype": "text/x-python",
   "name": "python",
   "nbconvert_exporter": "python",
   "pygments_lexer": "ipython3",
   "version": "3.10.9"
  }
 },
 "nbformat": 4,
 "nbformat_minor": 5
}
